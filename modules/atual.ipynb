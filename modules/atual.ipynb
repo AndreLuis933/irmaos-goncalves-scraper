{
 "cells": [
  {
   "cell_type": "code",
   "execution_count": null,
   "metadata": {},
   "outputs": [],
   "source": [
    "from main import main\n",
    "\n",
    "main()"
   ]
  },
  {
   "cell_type": "markdown",
   "metadata": {},
   "source": [
    "###  cookes categoria "
   ]
  },
  {
   "cell_type": "code",
   "execution_count": null,
   "metadata": {},
   "outputs": [],
   "source": [
    "from sqlalchemy.orm import sessionmaker\n",
    "from sqlalchemy import create_engine\n",
    "import pandas as pd\n",
    "import re\n",
    "engine = create_engine(\"sqlite:///produtos.db\")\n",
    "Session = sessionmaker(bind=engine)\n",
    "session = Session()\n",
    "\n",
    "query = \"\"\"\n",
    "SELECT link_imagem \n",
    "FROM imagens;\n",
    "\"\"\"\n",
    "df = pd.read_sql_query(query, engine)\n",
    "\n",
    "\n",
    "# Função para extrair sufixo e extensão\n",
    "def extrair_sufixo_extensao(url):\n",
    "    match = re.search(r'/(\\d+)(_.*?)(\\.\\w+)(\\?|$)', url)\n",
    "    if match:\n",
    "        return match.group(2), match.group(3)  # Retorna o sufixo e a extensão\n",
    "    return None, None\n",
    "\n",
    "# Aplicar a função e expandir para colunas separadas\n",
    "df[['Sufixo', 'Extensao']] = df['link_imagem'].apply(lambda x: pd.Series(extrair_sufixo_extensao(x)))\n",
    "#display(df[['Sufixo', 'Extensao']].value_counts())\n",
    "#display(df[['Sufixo']].value_counts())\n",
    "#display(df[[ 'Extensao']].value_counts())"
   ]
  }
 ],
 "metadata": {
  "kernelspec": {
   "display_name": ".venv",
   "language": "python",
   "name": "python3"
  },
  "language_info": {
   "codemirror_mode": {
    "name": "ipython",
    "version": 3
   },
   "file_extension": ".py",
   "mimetype": "text/x-python",
   "name": "python",
   "nbconvert_exporter": "python",
   "pygments_lexer": "ipython3",
   "version": "3.12.5"
  }
 },
 "nbformat": 4,
 "nbformat_minor": 2
}
