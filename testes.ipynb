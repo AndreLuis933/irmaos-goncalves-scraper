{
 "cells": [
  {
   "cell_type": "code",
   "execution_count": null,
   "metadata": {},
   "outputs": [],
   "source": [
    "import sqlite3\n",
    "import pandas as pd\n",
    "from sqlalchemy import create_engine\n",
    "\n",
    "# Configuração do banco de dados\n",
    "DATABASE_PATH = \"produtos.db\"\n",
    "engine = create_engine(f\"sqlite:///{DATABASE_PATH}\")\n",
    "\n",
    "# Função para salvar no banco de dados\n",
    "def salvar_no_banco(df, tabela):\n",
    "    df.to_sql(tabela, con=engine, if_exists=\"append\", index=False)\n",
    "    #print(f\"Salvou {len(df)} registros na tabela '{tabela}'.\")\n",
    "\n",
    "# Lista para acumular dados\n",
    "dados = []\n",
    "\n",
    "# Simulação de coleta de dados (substituir pelo seu scraper)\n",
    "for i in range(1, 10_001):  # Exemplo de 10.000 produtos\n",
    "    produto = {\n",
    "        \"nome\": f\"Produto {i}\",\n",
    "        \"preco\": round(10 + i * 0.1, 2),\n",
    "        \"link\": f\"https://example.com/produto{i}\",\n",
    "        \"imagem\": f\"https://example.com/imagem{i}.jpg\",\n",
    "        \"data_coleta\": pd.Timestamp.now()\n",
    "    }\n",
    "    dados.append(produto)\n",
    "    \n",
    "\n",
    "\n",
    "    if len(dados) >= 500:\n",
    "        df = pd.DataFrame(dados)\n",
    "        salvar_no_banco(df, \"produtos\")\n",
    "        dados = []  \n",
    "\n",
    "# Salva os dados restantes\n",
    "if dados:\n",
    "    df = pd.DataFrame(dados)\n",
    "    salvar_no_banco(df, \"produtos\")\n",
    "\n",
    "pd.DataFrame(dados)"
   ]
  },
  {
   "cell_type": "code",
   "execution_count": null,
   "metadata": {},
   "outputs": [],
   "source": [
    "\n",
    "# URL da imagem\n",
    "url = 'https://conteudo.irmaosgoncalves.com.br/produto/7897186020914/7897186020914_1.jpg?height=300'\n",
    "\n",
    "# Cabeçalhos simulando um navegador\n",
    "headers = {\n",
    "    'User-Agent': 'Mozilla/5.0 (Windows NT 10.0; Win64; x64) AppleWebKit/537.36 (KHTML, like Gecko) Chrome/91.0.4472.124 Safari/537.36'\n",
    "}\n",
    "\n",
    "# Fazendo a solicitação com os cabeçalhos\n",
    "response = requests.get(url, headers=headers)\n",
    "\n",
    "# Verifica se a solicitação foi bem-sucedida\n",
    "if response.status_code == 200:\n",
    "    # Salva a imagem no arquivo local\n",
    "    with open('imagem.jpg', 'wb') as file:\n",
    "        file.write(response.content)\n",
    "    print(\"Imagem baixada com sucesso!\")\n",
    "else:\n",
    "    print(f\"Erro ao baixar a imagem. Código de status: {response.status_code}\")"
   ]
  }
 ],
 "metadata": {
  "kernelspec": {
   "display_name": ".venv",
   "language": "python",
   "name": "python3"
  },
  "language_info": {
   "name": "python",
   "version": "3.12.5"
  }
 },
 "nbformat": 4,
 "nbformat_minor": 2
}
